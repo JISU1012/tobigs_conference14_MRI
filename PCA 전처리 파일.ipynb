{
 "cells": [
  {
   "cell_type": "code",
   "execution_count": 1,
   "id": "876d2a07",
   "metadata": {
    "ExecuteTime": {
     "end_time": "2022-06-28T12:54:20.666422Z",
     "start_time": "2022-06-28T12:54:14.952236Z"
    }
   },
   "outputs": [
    {
     "name": "stderr",
     "output_type": "stream",
     "text": [
      "  0%|                                                                                           | 0/18 [00:00<?, ?it/s]\n"
     ]
    },
    {
     "ename": "ValueError",
     "evalue": "n_components=64 must be between 0 and min(n_samples, n_features)=48 with svd_solver='full'",
     "output_type": "error",
     "traceback": [
      "\u001b[1;31m---------------------------------------------------------------------------\u001b[0m",
      "\u001b[1;31mValueError\u001b[0m                                Traceback (most recent call last)",
      "\u001b[1;32m~\\AppData\\Local\\Temp/ipykernel_25376/1150207520.py\u001b[0m in \u001b[0;36m<module>\u001b[1;34m\u001b[0m\n\u001b[0;32m     28\u001b[0m         \u001b[0mss\u001b[0m \u001b[1;33m=\u001b[0m\u001b[0mnp\u001b[0m\u001b[1;33m.\u001b[0m\u001b[0mload\u001b[0m\u001b[1;33m(\u001b[0m\u001b[0mfile_name\u001b[0m\u001b[1;33m)\u001b[0m\u001b[1;33m\u001b[0m\u001b[1;33m\u001b[0m\u001b[0m\n\u001b[0;32m     29\u001b[0m         \u001b[0mpca\u001b[0m \u001b[1;33m=\u001b[0m \u001b[0mPCA\u001b[0m\u001b[1;33m(\u001b[0m\u001b[0mn_components\u001b[0m\u001b[1;33m=\u001b[0m\u001b[0mn_comp\u001b[0m\u001b[1;33m)\u001b[0m \u001b[1;31m#\u001b[0m\u001b[1;33m\u001b[0m\u001b[1;33m\u001b[0m\u001b[0m\n\u001b[1;32m---> 30\u001b[1;33m         \u001b[0mnp\u001b[0m\u001b[1;33m.\u001b[0m\u001b[0msave\u001b[0m\u001b[1;33m(\u001b[0m\u001b[0mnew_folder\u001b[0m\u001b[1;33m+\u001b[0m\u001b[1;34m'/'\u001b[0m\u001b[1;33m+\u001b[0m\u001b[0mfolder_list\u001b[0m\u001b[1;33m[\u001b[0m\u001b[0mi\u001b[0m\u001b[1;33m]\u001b[0m\u001b[1;33m+\u001b[0m\u001b[1;34m'/pca_'\u001b[0m\u001b[1;33m+\u001b[0m\u001b[0mj\u001b[0m\u001b[1;33m,\u001b[0m\u001b[0mpca\u001b[0m\u001b[1;33m.\u001b[0m\u001b[0mfit_transform\u001b[0m\u001b[1;33m(\u001b[0m\u001b[0mss\u001b[0m\u001b[1;33m)\u001b[0m\u001b[1;33m)\u001b[0m\u001b[1;33m\u001b[0m\u001b[1;33m\u001b[0m\u001b[0m\n\u001b[0m\u001b[0;32m     31\u001b[0m \u001b[1;33m\u001b[0m\u001b[0m\n\u001b[0;32m     32\u001b[0m \u001b[1;33m\u001b[0m\u001b[0m\n",
      "\u001b[1;32mc:\\users\\82108\\.conda\\envs\\kaggle\\lib\\site-packages\\sklearn\\decomposition\\_pca.py\u001b[0m in \u001b[0;36mfit_transform\u001b[1;34m(self, X, y)\u001b[0m\n\u001b[0;32m    431\u001b[0m         \u001b[0mC\u001b[0m\u001b[1;33m-\u001b[0m\u001b[0mordered\u001b[0m \u001b[0marray\u001b[0m\u001b[1;33m,\u001b[0m \u001b[0muse\u001b[0m \u001b[1;34m'np.ascontiguousarray'\u001b[0m\u001b[1;33m.\u001b[0m\u001b[1;33m\u001b[0m\u001b[1;33m\u001b[0m\u001b[0m\n\u001b[0;32m    432\u001b[0m         \"\"\"\n\u001b[1;32m--> 433\u001b[1;33m         \u001b[0mU\u001b[0m\u001b[1;33m,\u001b[0m \u001b[0mS\u001b[0m\u001b[1;33m,\u001b[0m \u001b[0mVt\u001b[0m \u001b[1;33m=\u001b[0m \u001b[0mself\u001b[0m\u001b[1;33m.\u001b[0m\u001b[0m_fit\u001b[0m\u001b[1;33m(\u001b[0m\u001b[0mX\u001b[0m\u001b[1;33m)\u001b[0m\u001b[1;33m\u001b[0m\u001b[1;33m\u001b[0m\u001b[0m\n\u001b[0m\u001b[0;32m    434\u001b[0m         \u001b[0mU\u001b[0m \u001b[1;33m=\u001b[0m \u001b[0mU\u001b[0m\u001b[1;33m[\u001b[0m\u001b[1;33m:\u001b[0m\u001b[1;33m,\u001b[0m \u001b[1;33m:\u001b[0m \u001b[0mself\u001b[0m\u001b[1;33m.\u001b[0m\u001b[0mn_components_\u001b[0m\u001b[1;33m]\u001b[0m\u001b[1;33m\u001b[0m\u001b[1;33m\u001b[0m\u001b[0m\n\u001b[0;32m    435\u001b[0m \u001b[1;33m\u001b[0m\u001b[0m\n",
      "\u001b[1;32mc:\\users\\82108\\.conda\\envs\\kaggle\\lib\\site-packages\\sklearn\\decomposition\\_pca.py\u001b[0m in \u001b[0;36m_fit\u001b[1;34m(self, X)\u001b[0m\n\u001b[0;32m    481\u001b[0m         \u001b[1;31m# Call different fits for either full or truncated SVD\u001b[0m\u001b[1;33m\u001b[0m\u001b[1;33m\u001b[0m\u001b[1;33m\u001b[0m\u001b[0m\n\u001b[0;32m    482\u001b[0m         \u001b[1;32mif\u001b[0m \u001b[0mself\u001b[0m\u001b[1;33m.\u001b[0m\u001b[0m_fit_svd_solver\u001b[0m \u001b[1;33m==\u001b[0m \u001b[1;34m\"full\"\u001b[0m\u001b[1;33m:\u001b[0m\u001b[1;33m\u001b[0m\u001b[1;33m\u001b[0m\u001b[0m\n\u001b[1;32m--> 483\u001b[1;33m             \u001b[1;32mreturn\u001b[0m \u001b[0mself\u001b[0m\u001b[1;33m.\u001b[0m\u001b[0m_fit_full\u001b[0m\u001b[1;33m(\u001b[0m\u001b[0mX\u001b[0m\u001b[1;33m,\u001b[0m \u001b[0mn_components\u001b[0m\u001b[1;33m)\u001b[0m\u001b[1;33m\u001b[0m\u001b[1;33m\u001b[0m\u001b[0m\n\u001b[0m\u001b[0;32m    484\u001b[0m         \u001b[1;32melif\u001b[0m \u001b[0mself\u001b[0m\u001b[1;33m.\u001b[0m\u001b[0m_fit_svd_solver\u001b[0m \u001b[1;32min\u001b[0m \u001b[1;33m[\u001b[0m\u001b[1;34m\"arpack\"\u001b[0m\u001b[1;33m,\u001b[0m \u001b[1;34m\"randomized\"\u001b[0m\u001b[1;33m]\u001b[0m\u001b[1;33m:\u001b[0m\u001b[1;33m\u001b[0m\u001b[1;33m\u001b[0m\u001b[0m\n\u001b[0;32m    485\u001b[0m             \u001b[1;32mreturn\u001b[0m \u001b[0mself\u001b[0m\u001b[1;33m.\u001b[0m\u001b[0m_fit_truncated\u001b[0m\u001b[1;33m(\u001b[0m\u001b[0mX\u001b[0m\u001b[1;33m,\u001b[0m \u001b[0mn_components\u001b[0m\u001b[1;33m,\u001b[0m \u001b[0mself\u001b[0m\u001b[1;33m.\u001b[0m\u001b[0m_fit_svd_solver\u001b[0m\u001b[1;33m)\u001b[0m\u001b[1;33m\u001b[0m\u001b[1;33m\u001b[0m\u001b[0m\n",
      "\u001b[1;32mc:\\users\\82108\\.conda\\envs\\kaggle\\lib\\site-packages\\sklearn\\decomposition\\_pca.py\u001b[0m in \u001b[0;36m_fit_full\u001b[1;34m(self, X, n_components)\u001b[0m\n\u001b[0;32m    499\u001b[0m                 )\n\u001b[0;32m    500\u001b[0m         \u001b[1;32melif\u001b[0m \u001b[1;32mnot\u001b[0m \u001b[1;36m0\u001b[0m \u001b[1;33m<=\u001b[0m \u001b[0mn_components\u001b[0m \u001b[1;33m<=\u001b[0m \u001b[0mmin\u001b[0m\u001b[1;33m(\u001b[0m\u001b[0mn_samples\u001b[0m\u001b[1;33m,\u001b[0m \u001b[0mn_features\u001b[0m\u001b[1;33m)\u001b[0m\u001b[1;33m:\u001b[0m\u001b[1;33m\u001b[0m\u001b[1;33m\u001b[0m\u001b[0m\n\u001b[1;32m--> 501\u001b[1;33m             raise ValueError(\n\u001b[0m\u001b[0;32m    502\u001b[0m                 \u001b[1;34m\"n_components=%r must be between 0 and \"\u001b[0m\u001b[1;33m\u001b[0m\u001b[1;33m\u001b[0m\u001b[0m\n\u001b[0;32m    503\u001b[0m                 \u001b[1;34m\"min(n_samples, n_features)=%r with \"\u001b[0m\u001b[1;33m\u001b[0m\u001b[1;33m\u001b[0m\u001b[0m\n",
      "\u001b[1;31mValueError\u001b[0m: n_components=64 must be between 0 and min(n_samples, n_features)=48 with svd_solver='full'"
     ]
    }
   ],
   "source": [
    "import os\n",
    "import numpy as np\n",
    "import pandas as pd\n",
    "\n",
    "import time\n",
    "from tqdm import tqdm\n",
    "\n",
    "from sklearn.decomposition import PCA\n",
    "\n",
    "path = 'C:/Users/82108/Downloads/2022_프로젝트/투빅스 컨퍼런스/arena_mel' # 멜스펙토그램저장폴더\n",
    "new_folder = 'C:/Users/82108/Downloads/2022_프로젝트/투빅스 컨퍼런스/새 폴더'# 새롭게 저장할폴더\n",
    "folder_list = os.listdir(path) #멜스펙의 폴더 리스트 ex) 0~17\n",
    "\n",
    "n_comp=64   #pca 차원수\n",
    "\n",
    "\n",
    "\n",
    "for i in tqdm(range(len(folder_list))) :\n",
    "    \n",
    "    address = path+'/'+folder_list[i]    \n",
    "    file = os.listdir(address)\n",
    "    \n",
    "    os.mkdir(new_folder+\"/\"+folder_list[i])\n",
    "    \n",
    "    for j in file :\n",
    "        file_name = address+'/'+j\n",
    "        \n",
    "        ss =np.load(file_name)\n",
    "        pca = PCA(n_components=n_comp) # \n",
    "        np.save(new_folder+'/'+folder_list[i]+'/pca_'+j,pca.fit_transform(ss))\n",
    "        \n",
    "        "
   ]
  },
  {
   "cell_type": "code",
   "execution_count": 1,
   "id": "f5917d1b",
   "metadata": {
    "ExecuteTime": {
     "end_time": "2022-06-05T12:15:46.195839Z",
     "start_time": "2022-06-05T12:15:44.391283Z"
    }
   },
   "outputs": [],
   "source": [
    "import numpy as np\n",
    "import pandas as pd\n",
    "\n",
    "import time\n",
    "from tqdm import tqdm"
   ]
  },
  {
   "cell_type": "code",
   "execution_count": 14,
   "id": "0dac493f",
   "metadata": {
    "ExecuteTime": {
     "end_time": "2022-06-05T12:19:01.821233Z",
     "start_time": "2022-06-05T12:19:01.816197Z"
    }
   },
   "outputs": [],
   "source": [
    "a = np.random.rand(1,64)"
   ]
  },
  {
   "cell_type": "code",
   "execution_count": 15,
   "id": "66f1629f",
   "metadata": {
    "ExecuteTime": {
     "end_time": "2022-06-05T12:19:02.521641Z",
     "start_time": "2022-06-05T12:19:02.126040Z"
    }
   },
   "outputs": [],
   "source": [
    "b = np.random.rand(64,600000)"
   ]
  },
  {
   "cell_type": "code",
   "execution_count": 16,
   "id": "bcf95816",
   "metadata": {
    "ExecuteTime": {
     "end_time": "2022-06-05T12:19:03.345689Z",
     "start_time": "2022-06-05T12:19:03.319519Z"
    }
   },
   "outputs": [
    {
     "data": {
      "text/plain": [
       "array([[18.49693264, 14.30074511, 16.61883391, ..., 13.62108638,\n",
       "        17.08511897, 14.29186776]])"
      ]
     },
     "execution_count": 16,
     "metadata": {},
     "output_type": "execute_result"
    }
   ],
   "source": [
    "np.dot(a,b)"
   ]
  },
  {
   "cell_type": "code",
   "execution_count": 20,
   "id": "d9bb4797",
   "metadata": {
    "ExecuteTime": {
     "end_time": "2022-06-28T13:04:56.133305Z",
     "start_time": "2022-06-28T13:04:56.125253Z"
    }
   },
   "outputs": [],
   "source": [
    "from sklearn.decomposition import KernelPCA \n",
    "\n",
    "\n",
    "pca = KernelPCA(n_components=64)"
   ]
  },
  {
   "cell_type": "code",
   "execution_count": 21,
   "id": "90c06f26",
   "metadata": {
    "ExecuteTime": {
     "end_time": "2022-06-28T13:04:56.790401Z",
     "start_time": "2022-06-28T13:04:56.753489Z"
    }
   },
   "outputs": [
    {
     "data": {
      "text/plain": [
       "array([[-9.8157111e+02, -1.4147089e+02, -5.6355663e+01, ...,\n",
       "        -7.0871341e-01,  1.4676995e+00,  0.0000000e+00],\n",
       "       [-1.1628517e+03, -1.7375354e+02, -6.7325378e+01, ...,\n",
       "        -5.2997887e-02,  2.7688292e-01,  0.0000000e+00],\n",
       "       [-1.0947782e+03, -1.0855759e+02,  6.2974677e+00, ...,\n",
       "        -1.2069933e+00, -2.5360066e-01,  0.0000000e+00],\n",
       "       ...,\n",
       "       [ 7.9008978e+02,  3.3734875e+01, -5.9293991e+01, ...,\n",
       "        -2.8884026e+01,  2.0810919e+01,  0.0000000e+00],\n",
       "       [ 8.7499243e+02,  4.2116695e+01, -4.7721882e+01, ...,\n",
       "         3.4213696e+01, -1.5387805e+01,  0.0000000e+00],\n",
       "       [ 1.2057845e+03,  4.0592255e+01, -3.5065823e+01, ...,\n",
       "        -1.6074821e+01,  4.9644136e+00,  0.0000000e+00]], dtype=float32)"
      ]
     },
     "execution_count": 21,
     "metadata": {},
     "output_type": "execute_result"
    }
   ],
   "source": [
    "pca.fit_transform(ss)"
   ]
  },
  {
   "cell_type": "code",
   "execution_count": null,
   "id": "64cdb177",
   "metadata": {},
   "outputs": [],
   "source": []
  }
 ],
 "metadata": {
  "kernelspec": {
   "display_name": "Python 3 (ipykernel)",
   "language": "python",
   "name": "python3"
  },
  "language_info": {
   "codemirror_mode": {
    "name": "ipython",
    "version": 3
   },
   "file_extension": ".py",
   "mimetype": "text/x-python",
   "name": "python",
   "nbconvert_exporter": "python",
   "pygments_lexer": "ipython3",
   "version": "3.8.11"
  },
  "toc": {
   "base_numbering": 1,
   "nav_menu": {},
   "number_sections": true,
   "sideBar": true,
   "skip_h1_title": false,
   "title_cell": "Table of Contents",
   "title_sidebar": "Contents",
   "toc_cell": false,
   "toc_position": {},
   "toc_section_display": true,
   "toc_window_display": false
  },
  "varInspector": {
   "cols": {
    "lenName": 16,
    "lenType": 16,
    "lenVar": 40
   },
   "kernels_config": {
    "python": {
     "delete_cmd_postfix": "",
     "delete_cmd_prefix": "del ",
     "library": "var_list.py",
     "varRefreshCmd": "print(var_dic_list())"
    },
    "r": {
     "delete_cmd_postfix": ") ",
     "delete_cmd_prefix": "rm(",
     "library": "var_list.r",
     "varRefreshCmd": "cat(var_dic_list()) "
    }
   },
   "types_to_exclude": [
    "module",
    "function",
    "builtin_function_or_method",
    "instance",
    "_Feature"
   ],
   "window_display": false
  }
 },
 "nbformat": 4,
 "nbformat_minor": 5
}
